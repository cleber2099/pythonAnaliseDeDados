{
 "cells": [
  {
   "cell_type": "code",
   "execution_count": 1,
   "id": "3c5abafd",
   "metadata": {},
   "outputs": [],
   "source": [
    "import numpy as np"
   ]
  },
  {
   "cell_type": "code",
   "execution_count": 2,
   "id": "9e2eb556",
   "metadata": {},
   "outputs": [
    {
     "name": "stdout",
     "output_type": "stream",
     "text": [
      "[[1 2]\n",
      " [3 4]]\n",
      "[1.3 3.5]\n"
     ]
    }
   ],
   "source": [
    "x  = np.array([[1,2],[3,4]])\n",
    "y = np.array([1.3 , 3.5])\n",
    "print(x)\n",
    "print(y)"
   ]
  },
  {
   "cell_type": "code",
   "execution_count": 3,
   "id": "c90029ba",
   "metadata": {},
   "outputs": [
    {
     "name": "stdout",
     "output_type": "stream",
     "text": [
      "comparação de um array com um escalar > :\n",
      " [[False False]\n",
      " [ True  True]]\n",
      "comparação de um array com um escalar >= :\n",
      " [[False  True]\n",
      " [ True  True]]\n",
      "comparação de um array com um escalar < :\n",
      " [[ True False]\n",
      " [False False]]\n",
      "comparação de um array com um escalar  <=:\n",
      " [[ True  True]\n",
      " [False False]]\n",
      "comparação entre arrays == \n",
      " [[False False]\n",
      " [False False]]\n",
      "comparação entre arrays > \n",
      " [[False False]\n",
      " [False False]]\n",
      "comparação entre arrays  \n",
      " [[False False]\n",
      " [ True  True]]\n"
     ]
    }
   ],
   "source": [
    "#comparação ponto a ponto\n",
    "print(\"comparação de um array com um escalar > :\\n\", x>2 )\n",
    "print(\"comparação de um array com um escalar >= :\\n\",x >=2 )\n",
    "print(\"comparação de um array com um escalar < :\\n\", x <2)\n",
    "print(\"comparação de um array com um escalar  <=:\\n\", x <=2)\n",
    "print(\"comparação entre arrays == \\n\", x ==y )\n",
    "print(\"comparação entre arrays > \\n\",x >x )\n",
    "print(\"comparação entre arrays  \\n\",x >y )# briadcasting"
   ]
  },
  {
   "cell_type": "markdown",
   "id": "bad146c0",
   "metadata": {},
   "source": [
    "INDEXAÇÃO BOOLEANA"
   ]
  },
  {
   "cell_type": "code",
   "execution_count": 4,
   "id": "cbdb7c0b",
   "metadata": {},
   "outputs": [
    {
     "name": "stdout",
     "output_type": "stream",
     "text": [
      "x: \n",
      " [[ 1  3  7]\n",
      " [ 4 11 21]\n",
      " [42  8  9]]\n"
     ]
    }
   ],
   "source": [
    "#indexação booelana\n",
    "x  = np.array([[1,3,7],\n",
    "               [4,11,21],\n",
    "               [42,8,9]\n",
    "              ])\n",
    "print(\"x: \\n\",x)"
   ]
  },
  {
   "cell_type": "code",
   "execution_count": 5,
   "id": "1fe981b9",
   "metadata": {},
   "outputs": [
    {
     "name": "stdout",
     "output_type": "stream",
     "text": [
      "condição: n [[False False False]\n",
      " [False  True  True]\n",
      " [ True False False]]\n",
      "elementos maiores que 10: \n",
      " 3\n"
     ]
    }
   ],
   "source": [
    "#indexação booleana> retornar o número de elementos\n",
    "# maiores que k\n",
    "k = 10\n",
    "cond = x  >  k\n",
    "print(\"condição: n\", cond)\n",
    "print(f\"elementos maiores que {k}: \\n\",len(x[cond]) )"
   ]
  },
  {
   "cell_type": "code",
   "execution_count": 6,
   "id": "66d81450",
   "metadata": {},
   "outputs": [
    {
     "name": "stdout",
     "output_type": "stream",
     "text": [
      "condição : \n",
      " [[False False False]\n",
      " [ True False False]\n",
      " [ True  True False]]\n",
      "Números pares :\n",
      " [ 4 42  8]\n"
     ]
    }
   ],
   "source": [
    "#indexação booleana: extração de números pares\n",
    "cond = x % 2 == 0 \n",
    "print(\"condição : \\n\", cond)\n",
    "print(\"Números pares :\\n\", x[cond])"
   ]
  },
  {
   "cell_type": "code",
   "execution_count": 8,
   "id": "1b029e0b",
   "metadata": {},
   "outputs": [
    {
     "name": "stdout",
     "output_type": "stream",
     "text": [
      "condição : \n",
      " [[ True  True  True]\n",
      " [False  True  True]\n",
      " [False False  True]]\n",
      "Números ímpares :\n",
      " [ 1  3  7 11 21  9]\n"
     ]
    }
   ],
   "source": [
    "#indexação booleana: extração de números ímpares\n",
    "cond = x % 2 == 1 \n",
    "print(\"condição : \\n\", cond)\n",
    "print(\"Números ímpares :\\n\", x[cond])"
   ]
  },
  {
   "cell_type": "code",
   "execution_count": null,
   "id": "2fc8eba0",
   "metadata": {},
   "outputs": [],
   "source": []
  }
 ],
 "metadata": {
  "kernelspec": {
   "display_name": "Python 3 (ipykernel)",
   "language": "python",
   "name": "python3"
  },
  "language_info": {
   "codemirror_mode": {
    "name": "ipython",
    "version": 3
   },
   "file_extension": ".py",
   "mimetype": "text/x-python",
   "name": "python",
   "nbconvert_exporter": "python",
   "pygments_lexer": "ipython3",
   "version": "3.9.12"
  }
 },
 "nbformat": 4,
 "nbformat_minor": 5
}
