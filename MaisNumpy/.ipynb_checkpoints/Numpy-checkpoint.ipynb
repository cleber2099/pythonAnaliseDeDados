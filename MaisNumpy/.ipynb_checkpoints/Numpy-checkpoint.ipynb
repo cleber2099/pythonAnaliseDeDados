{
 "cells": [
  {
   "cell_type": "code",
   "execution_count": 2,
   "id": "8b93019e",
   "metadata": {},
   "outputs": [],
   "source": [
    "import numpy as np"
   ]
  },
  {
   "cell_type": "markdown",
   "id": "a36c5c85",
   "metadata": {},
   "source": [
    "outras operações com numpy"
   ]
  },
  {
   "cell_type": "code",
   "execution_count": 4,
   "id": "d2d21978",
   "metadata": {},
   "outputs": [
    {
     "name": "stdout",
     "output_type": "stream",
     "text": [
      "X : \n",
      " [[ 1  3  7]\n",
      " [ 4 11 21]\n",
      " [42  8  9]]\n"
     ]
    }
   ],
   "source": [
    "#array\n",
    "x = np.array([[1,3,7],\n",
    "              [4,11,21],\n",
    "              [42,8,9]\n",
    "             ])\n",
    "print(\"X : \\n\",x)"
   ]
  },
  {
   "cell_type": "raw",
   "id": "6d6c6101",
   "metadata": {},
   "source": []
  }
 ],
 "metadata": {
  "kernelspec": {
   "display_name": "Python 3 (ipykernel)",
   "language": "python",
   "name": "python3"
  },
  "language_info": {
   "codemirror_mode": {
    "name": "ipython",
    "version": 3
   },
   "file_extension": ".py",
   "mimetype": "text/x-python",
   "name": "python",
   "nbconvert_exporter": "python",
   "pygments_lexer": "ipython3",
   "version": "3.9.12"
  }
 },
 "nbformat": 4,
 "nbformat_minor": 5
}
