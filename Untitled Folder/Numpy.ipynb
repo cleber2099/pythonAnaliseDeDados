{
 "cells": [
  {
   "cell_type": "code",
   "execution_count": 8,
   "id": "7e07184b",
   "metadata": {},
   "outputs": [],
   "source": [
    "import numpy as np"
   ]
  },
  {
   "cell_type": "markdown",
   "id": "cd3c078d",
   "metadata": {},
   "source": [
    "outras operações com numpy"
   ]
  },
  {
   "cell_type": "code",
   "execution_count": 4,
   "id": "f5007ed2",
   "metadata": {},
   "outputs": [
    {
     "name": "stdout",
     "output_type": "stream",
     "text": [
      "X : \n",
      " [[ 1  3  7]\n",
      " [ 4 11 21]\n",
      " [42  8  9]]\n"
     ]
    }
   ],
   "source": [
    "#array\n",
    "x = np.array([[1,3,7],\n",
    "              [4,11,21],\n",
    "              [42,8,9]\n",
    "             ])\n",
    "print(\"X : \\n\",x)"
   ]
  },
  {
   "cell_type": "code",
   "execution_count": 6,
   "id": "ede7e71a",
   "metadata": {},
   "outputs": [
    {
     "name": "stdout",
     "output_type": "stream",
     "text": [
      "transformação de em um vetor coluna:\n",
      " [[ 1]\n",
      " [ 3]\n",
      " [ 7]\n",
      " [ 4]\n",
      " [11]\n",
      " [21]\n",
      " [42]\n",
      " [ 8]\n",
      " [ 9]]\n"
     ]
    }
   ],
   "source": [
    "# reshape: transformar a matriz em um vetor coluna\n",
    "#(3,3) vira (9,1): 3*3 = 9*1 = 9\n",
    "print(\"transformação de em um vetor coluna:\\n\", x.reshape(9,1))"
   ]
  },
  {
   "cell_type": "code",
   "execution_count": 7,
   "id": "6edf2aaf",
   "metadata": {},
   "outputs": [
    {
     "name": "stdout",
     "output_type": "stream",
     "text": [
      "x transposta:\n",
      " [[ 1  4 42]\n",
      " [ 3 11  8]\n",
      " [ 7 21  9]]\n"
     ]
    }
   ],
   "source": [
    "#transposição de matriz\n",
    "print(\"x transposta:\\n\",x.T)"
   ]
  },
  {
   "cell_type": "code",
   "execution_count": 11,
   "id": "03558f18",
   "metadata": {},
   "outputs": [
    {
     "name": "stdout",
     "output_type": "stream",
     "text": [
      "x:\n",
      " [[ 1  3  7]\n",
      " [ 4 11 21]\n",
      " [42  8  9]]\n",
      "soma de todos elementos de x :\n",
      " 106\n",
      "soma de x ao longo das linhas :\n",
      " [47 22 37]\n",
      "soma de x ao longo das colunas :\n",
      " [11 36 59]\n"
     ]
    }
   ],
   "source": [
    "# np.sum: soma em um dado eixo,  axis = {0: linha, 1:coluna}\n",
    "print(\"x:\\n\",x)\n",
    "print(\"soma de todos elementos de x :\\n\", np.sum(x))\n",
    "print(\"soma de x ao longo das linhas :\\n\", np.sum(x,axis=0))\n",
    "print(\"soma de x ao longo das colunas :\\n\",np.sum(x,axis=1))"
   ]
  },
  {
   "cell_type": "code",
   "execution_count": 12,
   "id": "dec4a6f1",
   "metadata": {},
   "outputs": [
    {
     "name": "stdout",
     "output_type": "stream",
     "text": [
      "x:\n",
      " [[ 1  3  7]\n",
      " [ 4 11 21]\n",
      " [42  8  9]]\n",
      "media de todos elementos de x :\n",
      " 11.777777777777779\n",
      "media de x ao longo das linhas :\n",
      " [15.66666667  7.33333333 12.33333333]\n",
      "media de x ao longo das colunas :\n",
      " [ 3.66666667 12.         19.66666667]\n"
     ]
    }
   ],
   "source": [
    "# np.mean: media em um dado eixo, axis ={0: linha, 1:coluna}\n",
    "print(\"x:\\n\",x)\n",
    "print(\"media de todos elementos de x :\\n\", np.mean(x))\n",
    "print(\"media de x ao longo das linhas :\\n\", np.mean(x,axis=0))\n",
    "print(\"media de x ao longo das colunas :\\n\",np.mean(x,axis=1))\n"
   ]
  },
  {
   "cell_type": "code",
   "execution_count": 13,
   "id": "c88d1761",
   "metadata": {},
   "outputs": [
    {
     "name": "stdout",
     "output_type": "stream",
     "text": [
      "Condição : \n",
      " [[False False False]\n",
      " [ True False False]\n",
      " [ True  True False]]\n",
      "indice i (linhas):\n",
      " [1 2 2]\n",
      "indice j (colunas):\n",
      " [0 0 1]\n"
     ]
    }
   ],
   "source": [
    "#np.where, identificação dos indices onde uma dada condição\n",
    "#é atendida, uso conjunto com indexação booleana\n",
    "cond =  x% 2 == 0 #numeros pares\n",
    "print(\"Condição : \\n\", cond)\n",
    "i, j = np.where(cond)# indices x[i,j] = x[cond]\n",
    "print(\"indice i (linhas):\\n\",i)\n",
    "print(\"indice j (colunas):\\n\",j)"
   ]
  },
  {
   "cell_type": "code",
   "execution_count": 14,
   "id": "cd21bcef",
   "metadata": {},
   "outputs": [
    {
     "name": "stdout",
     "output_type": "stream",
     "text": [
      "x: \n",
      " [[ 1  3  7]\n",
      " [ 4 11 21]\n",
      " [42  8  9]]\n",
      "Condição : \n",
      " [[False False False]\n",
      " [ True False False]\n",
      " [ True  True False]]\n",
      "indice das linhas que possuem numeros pares: \n",
      " [1 2]\n",
      "linhas que possuem numeros pares: \n",
      " [[ 4 11 21]\n",
      " [42  8  9]]\n"
     ]
    }
   ],
   "source": [
    "#indexação booleana e slicing: selecionar as linhas\n",
    "# de x que possuem algum numero par\n",
    "print(\"x: \\n\",x)\n",
    "cond = x % 2 == 0\n",
    "print(\"Condição : \\n\", cond)\n",
    "\n",
    "#se houver alguma condição true na linha a soma será > 0\n",
    "i_row = np.where(np.sum(cond,axis=1))[0]\n",
    "print(\"indice das linhas que possuem numeros pares: \\n\", i_row)\n",
    "print(\"linhas que possuem numeros pares: \\n\",x[i_row,:] )"
   ]
  },
  {
   "cell_type": "markdown",
   "id": "47645877",
   "metadata": {},
   "source": [
    "Regreção linear\n"
   ]
  },
  {
   "cell_type": "code",
   "execution_count": 1,
   "id": "38ea4c5d",
   "metadata": {},
   "outputs": [],
   "source": [
    "import matplotlib.pyplot as plt"
   ]
  },
  {
   "cell_type": "code",
   "execution_count": 2,
   "id": "ea9997c9",
   "metadata": {},
   "outputs": [],
   "source": [
    "#dados\n",
    "x = [-1, -0.77777778,-0.55555556, -0.33333333, -0.11111111,\n",
    "    0.11111111, 0.33333333, 0.55555556, 0.77777778, 1.]\n",
    "y = [-1.13956201, -0.57177999,  -0.21697033, 0.5425699, 0.49406657,\n",
    "    1.14972239,1.64228553, 2.1749824, 2.64773614, 2.95684202]\n"
   ]
  },
  {
   "cell_type": "code",
   "execution_count": 4,
   "id": "db21e6e1",
   "metadata": {},
   "outputs": [
    {
     "data": {
      "image/png": "[encoded data removed]",
      "text/plain": [
       "<Figure size 720x360 with 1 Axes>"
      ]
     },
     "metadata": {
      "needs_background": "light"
     },
     "output_type": "display_data"
    }
   ],
   "source": [
    "#plot de dados\n",
    "plt.figure(figsize =(10,5))\n",
    "plt.plot(x,y, 'o', label ='dados originais')\n",
    "plt.legend()\n",
    "plt.xlabel('x')\n",
    "plt.ylabel('y')\n",
    "plt.grid()\n",
    "plt.show()"
   ]
  },
  {
   "cell_type": "code",
   "execution_count": 10,
   "id": "216954a2",
   "metadata": {},
   "outputs": [
    {
     "name": "stdout",
     "output_type": "stream",
     "text": [
      "a estimado:  2.054149512038485\n",
      "b estimado:  0.9679892620000001\n"
     ]
    }
   ],
   "source": [
    "#transformando para numpy e vetor coluna\n",
    "x,y = np.array(x).reshape(-1,1), np.array(y).reshape(-1,1)\n",
    "#adicionando bias: para estimar o termo b\n",
    "X =  np.hstack((x, np.ones(x.shape)))\n",
    "#extimando a e b\n",
    "beta = np.linalg.pinv(X).dot(y)\n",
    "print(\"a estimado: \", beta[0][0])\n",
    "print(\"b estimado: \", beta[1][0])"
   ]
  },
  {
   "cell_type": "code",
   "execution_count": 12,
   "id": "047e222e",
   "metadata": {},
   "outputs": [
    {
     "data": {
      "image/png": "[encoded data removed]",
      "text/plain": [
       "<Figure size 720x360 with 1 Axes>"
      ]
     },
     "metadata": {
      "needs_background": "light"
     },
     "output_type": "display_data"
    }
   ],
   "source": [
    "#plot de dados\n",
    "plt.figure(figsize = (10,5))\n",
    "plt.plot(x,y, 'o', label = 'dados originais')\n",
    "plt.plot(x,X.dot(beta), label='regressão linear')\n",
    "plt.legend()\n",
    "plt.xlabel(\"x\")\n",
    "plt.ylabel(\"y\")\n",
    "plt.title(\"regressão linear com numpy\")\n",
    "plt.grid()\n",
    "plt.show()"
   ]
  },
  {
   "cell_type": "code",
   "execution_count": null,
   "id": "aabf8dd9",
   "metadata": {},
   "outputs": [],
   "source": []
  }
 ],
 "metadata": {
  "kernelspec": {
   "display_name": "Python 3 (ipykernel)",
   "language": "python",
   "name": "python3"
  },
  "language_info": {
   "codemirror_mode": {
    "name": "ipython",
    "version": 3
   },
   "file_extension": ".py",
   "mimetype": "text/x-python",
   "name": "python",
   "nbconvert_exporter": "python",
   "pygments_lexer": "ipython3",
   "version": "3.9.12"
  }
 },
 "nbformat": 4,
 "nbformat_minor": 5
}
