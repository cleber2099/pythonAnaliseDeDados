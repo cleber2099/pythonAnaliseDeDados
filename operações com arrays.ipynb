{
 "cells": [
  {
   "cell_type": "markdown",
   "id": "14e1b229",
   "metadata": {},
   "source": [
    "funções aritméticas\n"
   ]
  },
  {
   "cell_type": "code",
   "execution_count": 1,
   "id": "9df46876",
   "metadata": {},
   "outputs": [],
   "source": [
    "import numpy as np"
   ]
  },
  {
   "cell_type": "code",
   "execution_count": 2,
   "id": "b9598162",
   "metadata": {},
   "outputs": [
    {
     "name": "stdout",
     "output_type": "stream",
     "text": [
      "x : \n",
      " [[1. 1.]\n",
      " [1. 1.]]\n",
      "y : \n",
      " [[1. 0.]\n",
      " [0. 1.]]\n"
     ]
    }
   ],
   "source": [
    "# criando 2 arrays #broadcasting\n",
    "x = np.ones((2,2))\n",
    "y = np.eye(2)\n",
    "print(\"x : \\n\", x)\n",
    "print(\"y : \\n\",y)"
   ]
  },
  {
   "cell_type": "code",
   "execution_count": 3,
   "id": "5f483bf4",
   "metadata": {},
   "outputs": [
    {
     "name": "stdout",
     "output_type": "stream",
     "text": [
      " soma de arrays \n",
      " [[2. 1.]\n",
      " [1. 2.]]\n",
      "com float ou int  \n",
      " [[3. 3.]\n",
      " [3. 3.]]\n"
     ]
    }
   ],
   "source": [
    "#soma\n",
    "print(\" soma de arrays \\n\", x+y )\n",
    "print(\"com float ou int  \\n\", x+2)"
   ]
  },
  {
   "cell_type": "code",
   "execution_count": 4,
   "id": "5fb2ca59",
   "metadata": {},
   "outputs": [
    {
     "name": "stdout",
     "output_type": "stream",
     "text": [
      " subtração \n",
      ", [[0. 1.]\n",
      " [1. 0.]]\n",
      "com float ou int \n",
      " [[-1. -1.]\n",
      " [-1. -1.]]\n"
     ]
    }
   ],
   "source": [
    "#subtração\n",
    "print(\" subtração \\n,\", x-y )\n",
    "print(\"com float ou int \\n\",x-2 )"
   ]
  },
  {
   "cell_type": "code",
   "execution_count": 5,
   "id": "b4c835f7",
   "metadata": {},
   "outputs": [
    {
     "name": "stdout",
     "output_type": "stream",
     "text": [
      " divisao  \n",
      " [[ 1. inf]\n",
      " [inf  1.]]\n",
      "com float \n",
      " [[0.5 0.5]\n",
      " [0.5 0.5]]\n"
     ]
    },
    {
     "name": "stderr",
     "output_type": "stream",
     "text": [
      "C:\\Users\\aecle\\AppData\\Local\\Temp\\ipykernel_4972\\1600535081.py:1: RuntimeWarning: divide by zero encountered in true_divide\n",
      "  print(\" divisao  \\n\", x/y )\n"
     ]
    }
   ],
   "source": [
    "print(\" divisao  \\n\", x/y )\n",
    "print(\"com float \\n\", x/2 )"
   ]
  },
  {
   "cell_type": "code",
   "execution_count": 6,
   "id": "12680d5e",
   "metadata": {},
   "outputs": [
    {
     "ename": "ValueError",
     "evalue": "operands could not be broadcast together with shapes (3,) (2,) ",
     "output_type": "error",
     "traceback": [
      "\u001b[1;31m---------------------------------------------------------------------------\u001b[0m",
      "\u001b[1;31mValueError\u001b[0m                                Traceback (most recent call last)",
      "Input \u001b[1;32mIn [6]\u001b[0m, in \u001b[0;36m<cell line: 2>\u001b[1;34m()\u001b[0m\n\u001b[0;32m      1\u001b[0m \u001b[38;5;66;03m# vai dar errado\u001b[39;00m\n\u001b[1;32m----> 2\u001b[0m \u001b[43mnp\u001b[49m\u001b[38;5;241;43m.\u001b[39;49m\u001b[43marray\u001b[49m\u001b[43m(\u001b[49m\u001b[43m[\u001b[49m\u001b[38;5;241;43m1\u001b[39;49m\u001b[43m,\u001b[49m\u001b[38;5;241;43m2\u001b[39;49m\u001b[43m,\u001b[49m\u001b[38;5;241;43m3\u001b[39;49m\u001b[43m]\u001b[49m\u001b[43m)\u001b[49m\u001b[43m \u001b[49m\u001b[38;5;241;43m+\u001b[39;49m\u001b[43m \u001b[49m\u001b[43mnp\u001b[49m\u001b[38;5;241;43m.\u001b[39;49m\u001b[43marray\u001b[49m\u001b[43m(\u001b[49m\u001b[43m[\u001b[49m\u001b[38;5;241;43m1\u001b[39;49m\u001b[43m,\u001b[49m\u001b[38;5;241;43m2\u001b[39;49m\u001b[43m]\u001b[49m\u001b[43m)\u001b[49m\n",
      "\u001b[1;31mValueError\u001b[0m: operands could not be broadcast together with shapes (3,) (2,) "
     ]
    }
   ],
   "source": [
    "# vai dar errado\n",
    "np.array([1,2,3]) + np.array([1,2])"
   ]
  },
  {
   "cell_type": "code",
   "execution_count": null,
   "id": "a616ebb7",
   "metadata": {},
   "outputs": [],
   "source": [
    "#varias operações\n",
    "print(\"combinando operação:\\n\", (x+y)  / (x-2))"
   ]
  },
  {
   "cell_type": "code",
   "execution_count": 7,
   "id": "7ebc5e73",
   "metadata": {},
   "outputs": [
    {
     "name": "stdout",
     "output_type": "stream",
     "text": [
      "[[1. 1.]\n",
      " [1. 1.]]\n",
      "[[1. 0.]\n",
      " [0. 1.]]\n"
     ]
    }
   ],
   "source": [
    "print(x)\n",
    "print(y)"
   ]
  },
  {
   "cell_type": "code",
   "execution_count": 9,
   "id": "79237e54",
   "metadata": {},
   "outputs": [
    {
     "name": "stdout",
     "output_type": "stream",
     "text": [
      "multiplicação de arrays \n",
      " [[1. 0.]\n",
      " [0. 1.]]\n",
      "multiplicando por int/float \n",
      " [[2. 2.]\n",
      " [2. 2.]]\n"
     ]
    }
   ],
   "source": [
    "#multiplicação\n",
    "print(\"multiplicação de arrays \\n\", x *y)\n",
    "print(\"multiplicando por int/float \\n\", x *2)"
   ]
  },
  {
   "cell_type": "code",
   "execution_count": 10,
   "id": "24137c30",
   "metadata": {},
   "outputs": [
    {
     "name": "stdout",
     "output_type": "stream",
     "text": [
      "multiplicação matricial (np.dot):\n",
      " [[1. 1.]\n",
      " [1. 1.]]\n",
      "multiplicação matricial (@):\n",
      " [[1. 1.]\n",
      " [1. 1.]]\n",
      "multiplicação matricial (.dot):\n",
      " [[1. 1.]\n",
      " [1. 1.]]\n"
     ]
    }
   ],
   "source": [
    "#multiplicação matricial\n",
    "print(\"multiplicação matricial (np.dot):\\n\", np.dot(x,y))\n",
    "print(\"multiplicação matricial (@):\\n\", x @ y)\n",
    "print(\"multiplicação matricial (.dot):\\n\", x.dot(y))"
   ]
  },
  {
   "cell_type": "code",
   "execution_count": 12,
   "id": "6d2096f9",
   "metadata": {},
   "outputs": [
    {
     "name": "stdout",
     "output_type": "stream",
     "text": [
      "A : \n",
      " [[ 1  2]\n",
      " [ 3 -2]]\n",
      "C : \n",
      " [[  7]\n",
      " [-11]]\n"
     ]
    }
   ],
   "source": [
    "\"\"\"\n",
    "Exemplo:\n",
    "solução de um sistema de equações:\n",
    "x +2*b =7\n",
    "3*a - 2*b = -11\n",
    "solução analitica : (a,b) = (-1,4)\n",
    "\n",
    "matricialmente, este problema tem a seguinte solução\n",
    "\n",
    "    Ax = c, onde:\n",
    "    - x = [a,b]\n",
    "    - A = [[1,2], [3,-2]]\n",
    "    - c = [7, -11]\n",
    "    solução numerica x = inv(A) @ c,\n",
    "\"\"\"\n",
    "#definição do problema\n",
    "A =  np.array([[1,2], [3, -2]])\n",
    "C = np.array([[7], [-11]])\n",
    "print(\"A : \\n\", A)\n",
    "print(\"C : \\n\", C)\n"
   ]
  },
  {
   "cell_type": "code",
   "execution_count": 13,
   "id": "d3ef6596",
   "metadata": {},
   "outputs": [],
   "source": [
    "x =  np.dot(np.linalg.inv(A),C)\n",
    "x = np.linalg.inv(A) @ C"
   ]
  },
  {
   "cell_type": "code",
   "execution_count": null,
   "id": "6683bb59",
   "metadata": {},
   "outputs": [],
   "source": []
  }
 ],
 "metadata": {
  "kernelspec": {
   "display_name": "Python 3 (ipykernel)",
   "language": "python",
   "name": "python3"
  },
  "language_info": {
   "codemirror_mode": {
    "name": "ipython",
    "version": 3
   },
   "file_extension": ".py",
   "mimetype": "text/x-python",
   "name": "python",
   "nbconvert_exporter": "python",
   "pygments_lexer": "ipython3",
   "version": "3.9.12"
  }
 },
 "nbformat": 4,
 "nbformat_minor": 5
}
