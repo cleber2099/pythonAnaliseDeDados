{
 "cells": [
  {
   "cell_type": "code",
   "execution_count": 2,
   "id": "afc6fca3",
   "metadata": {},
   "outputs": [],
   "source": [
    "import numpy as np"
   ]
  },
  {
   "cell_type": "code",
   "execution_count": 2,
   "id": "15cd20a7",
   "metadata": {},
   "outputs": [
    {
     "name": "stdout",
     "output_type": "stream",
     "text": [
      "x: [1 2 3]\n",
      "Shape:  (3,)\n"
     ]
    }
   ],
   "source": [
    "# criando array 1D\n",
    "l = [1,2,3]\n",
    "x = np.array(l)\n",
    "print(\"x:\", x)\n",
    "print(\"Shape: \",x.shape)"
   ]
  },
  {
   "cell_type": "code",
   "execution_count": 3,
   "id": "e8918ce9",
   "metadata": {},
   "outputs": [
    {
     "name": "stdout",
     "output_type": "stream",
     "text": [
      "x:\n",
      " [[1 2]\n",
      " [3 4]]\n",
      "shape:  (2, 2)\n"
     ]
    }
   ],
   "source": [
    "#Array 2 d: Listas aninhadas\n",
    "l=[[1,2],[3,4]]\n",
    "x = np.array(l)\n",
    "print(\"x:\\n\",x)\n",
    "print(\"shape: \",x.shape)"
   ]
  },
  {
   "cell_type": "code",
   "execution_count": 6,
   "id": "ad3723e0",
   "metadata": {},
   "outputs": [
    {
     "name": "stdout",
     "output_type": "stream",
     "text": [
      "x:\n",
      " [[0. 0.]\n",
      " [0. 0.]]\n",
      "shape:  (2, 2)\n"
     ]
    }
   ],
   "source": [
    "# array contendo apenas 0's\n",
    "dim =(2,2) #linhas e colunas\n",
    "x = np.zeros(dim)\n",
    "print(\"x:\\n\", x)\n",
    "print(\"shape: \", x.shape)\n"
   ]
  },
  {
   "cell_type": "code",
   "execution_count": 7,
   "id": "abe402c8",
   "metadata": {},
   "outputs": [
    {
     "name": "stdout",
     "output_type": "stream",
     "text": [
      "x:\n",
      " [[1. 1.]\n",
      " [1. 1.]]\n",
      "shape:  (2, 2)\n"
     ]
    }
   ],
   "source": [
    "# array contendo apenas 1's\n",
    "size =(2,2) #linhas e colunas\n",
    "x = np.ones(size)\n",
    "print(\"x:\\n\", x)\n",
    "print(\"shape: \", x.shape)"
   ]
  },
  {
   "cell_type": "code",
   "execution_count": 8,
   "id": "10b526b5",
   "metadata": {},
   "outputs": [
    {
     "name": "stdout",
     "output_type": "stream",
     "text": [
      "x:\n",
      " [ 5.  7.  9. 11. 13. 15.]\n",
      "shape:  (6,)\n"
     ]
    }
   ],
   "source": [
    "#criação de valores dentro de um intervalo\n",
    "#valores uniformes entre 5 e 15\n",
    "x_min,x_max =5,15\n",
    "x = np.linspace(start=x_min, stop=x_max,num=6)\n",
    "print(\"x:\\n\",x)\n",
    "print(\"shape: \",x.shape)"
   ]
  },
  {
   "cell_type": "code",
   "execution_count": 9,
   "id": "57bbe38b",
   "metadata": {},
   "outputs": [
    {
     "name": "stdout",
     "output_type": "stream",
     "text": [
      "x:\n",
      " [[1. 0. 0. 0.]\n",
      " [0. 1. 0. 0.]\n",
      " [0. 0. 1. 0.]\n",
      " [0. 0. 0. 1.]]\n",
      "Shape:  (4, 4)\n"
     ]
    }
   ],
   "source": [
    "#criação de matriz identidade\n",
    "n=4\n",
    "x = np.eye(n)\n",
    "print(\"x:\\n\",x)\n",
    "print(\"Shape: \",x.shape)"
   ]
  },
  {
   "cell_type": "code",
   "execution_count": 12,
   "id": "b35754f5",
   "metadata": {},
   "outputs": [
    {
     "name": "stdout",
     "output_type": "stream",
     "text": [
      "x:\n",
      " [[0.5074331  0.1109494  0.19181865]\n",
      " [0.80449587 0.0139045  0.63618153]]\n",
      "shape: (2, 3)\n"
     ]
    }
   ],
   "source": [
    "#criação de valores  aleatórios\n",
    "#np.random.seed(10)\n",
    "x=np.random.random(size=(2,3))\n",
    "print(\"x:\\n\",x)\n",
    "print(\"shape:\",x.shape)"
   ]
  },
  {
   "cell_type": "markdown",
   "id": "131cddaf",
   "metadata": {},
   "source": [
    "Indexação de arrays"
   ]
  },
  {
   "cell_type": "code",
   "execution_count": 3,
   "id": "a48498f9",
   "metadata": {},
   "outputs": [
    {
     "name": "stdout",
     "output_type": "stream",
     "text": [
      "x: [ 10.  20.  30.  40.  50.  60.  70.  80.  90. 100.]\n",
      "shape: (10,)\n"
     ]
    }
   ],
   "source": [
    "# indices de 0 a n-1\n",
    "x = np.linspace(start=10, stop=100, num=10)\n",
    "print(\"x:\",x)\n",
    "print(\"shape:\", x.shape)"
   ]
  },
  {
   "cell_type": "code",
   "execution_count": 4,
   "id": "cca1a100",
   "metadata": {},
   "outputs": [
    {
     "name": "stdout",
     "output_type": "stream",
     "text": [
      "x:  [ 10.  20.  30.  40.  50.  60.  70.  80.  90. 100.]\n",
      "primeiro elemento 10.0\n",
      "segundo elemento  20.0\n",
      "ultimo elemento:  100.0\n"
     ]
    }
   ],
   "source": [
    "#extração de elementos\n",
    "print(\"x: \", x)\n",
    "print(\"primeiro elemento\", x[0])\n",
    "print(\"segundo elemento \", x[1])\n",
    "print(\"ultimo elemento: \", x[-1])"
   ]
  },
  {
   "cell_type": "code",
   "execution_count": 6,
   "id": "e2b9500a",
   "metadata": {},
   "outputs": [
    {
     "name": "stdout",
     "output_type": "stream",
     "text": [
      "x:  [ 10.  20.  30.  40.  50.  60.  70.  80.  90. 100.]\n",
      "dois primeiros elementos:  [10. 20.]\n",
      "dois  primeiros elementos:  [10. 20.]\n",
      "dois ultimos elementos  [ 90. 100.]\n"
     ]
    }
   ],
   "source": [
    "#slicing: extração de subarrays\n",
    "print(\"x: \",x)\n",
    "print(\"dois primeiros elementos: \", x[0:2])\n",
    "print(\"dois  primeiros elementos: \", x[:2])\n",
    "print(\"dois ultimos elementos \", x[-2:])"
   ]
  },
  {
   "cell_type": "code",
   "execution_count": 9,
   "id": "298ff5a8",
   "metadata": {},
   "outputs": [
    {
     "name": "stdout",
     "output_type": "stream",
     "text": [
      "X  [[ 10.  20.  30.  40.  50.]\n",
      " [ 60.  70.  80.  90. 100.]]\n"
     ]
    }
   ],
   "source": [
    "#slincing de array 2d\n",
    "x= x.reshape(2,5) # reshape de x para 2 linhas e 5 colunas\n",
    "print(\"X \", x)"
   ]
  },
  {
   "cell_type": "code",
   "execution_count": 10,
   "id": "d8463d1b",
   "metadata": {},
   "outputs": [
    {
     "name": "stdout",
     "output_type": "stream",
     "text": [
      "primeira linha, segunda coluna : 20.0\n",
      "segunda linha, penultima coluna:  90.0\n",
      "!ultima linha, ultima coluna  100.0\n",
      "!ultima linha, ultima coluna 100.0\n"
     ]
    }
   ],
   "source": [
    "#extração de elementos\n",
    "print(\"primeira linha, segunda coluna :\", x[0,1])\n",
    "print(\"segunda linha, penultima coluna: \", x[1,-2])\n",
    "print(\"!ultima linha, ultima coluna \", x[1,4])\n",
    "print(\"!ultima linha, ultima coluna\", x[-1, -1])"
   ]
  },
  {
   "cell_type": "code",
   "execution_count": 11,
   "id": "721166f7",
   "metadata": {},
   "outputs": [
    {
     "name": "stdout",
     "output_type": "stream",
     "text": [
      "x: [[ 10.  20.  30.  40.  50.]\n",
      " [ 60.  70.  80.  90. 100.]]\n",
      "primeira linha inteia  [10. 20. 30. 40. 50.]\n",
      "primeira linha, segunda a quarta coluna  [20. 30. 40.]\n",
      "ultima coluna inteira:  [[ 50.]\n",
      " [100.]]\n"
     ]
    }
   ],
   "source": [
    "#slicing para sub-arrays\n",
    "print(\"x:\", x )\n",
    "print(\"primeira linha inteia \", x[0,:])\n",
    "print(\"primeira linha, segunda a quarta coluna \", x[0,1:4])\n",
    "print(\"ultima coluna inteira: \",x[:,[-1]])"
   ]
  },
  {
   "cell_type": "markdown",
   "id": "d37a0756",
   "metadata": {},
   "source": [
    "ATENÇÃO COM COMPARTILHAMENTO DE MEMORIA COM SUBARRAYS"
   ]
  },
  {
   "cell_type": "code",
   "execution_count": 14,
   "id": "45a381bb",
   "metadata": {},
   "outputs": [
    {
     "name": "stdout",
     "output_type": "stream",
     "text": [
      "x antes: [1 2 3]\n",
      "x depois: [-100    2    3]\n"
     ]
    }
   ],
   "source": [
    "x = np.array([1,2,3])\n",
    "print(\"x antes:\", x)\n",
    "y = x[:2]\n",
    "y[0] = -100 #alterando valor em y altera o valor de x\n",
    "print(\"x depois:\",x)"
   ]
  },
  {
   "cell_type": "code",
   "execution_count": 15,
   "id": "6202d812",
   "metadata": {},
   "outputs": [
    {
     "name": "stdout",
     "output_type": "stream",
     "text": [
      "x antes: [1 2 3]\n",
      "x depois: [1 2 3]\n"
     ]
    }
   ],
   "source": [
    "x = np.array([1,2,3])\n",
    "print(\"x antes:\", x)\n",
    "y = x[:2].copy()\n",
    "y[0] = -100 #alterando valor em y altera o valor de x\n",
    "print(\"x depois:\",x)"
   ]
  },
  {
   "cell_type": "code",
   "execution_count": null,
   "id": "abe72ec1",
   "metadata": {},
   "outputs": [],
   "source": []
  }
 ],
 "metadata": {
  "kernelspec": {
   "display_name": "Python 3 (ipykernel)",
   "language": "python",
   "name": "python3"
  },
  "language_info": {
   "codemirror_mode": {
    "name": "ipython",
    "version": 3
   },
   "file_extension": ".py",
   "mimetype": "text/x-python",
   "name": "python",
   "nbconvert_exporter": "python",
   "pygments_lexer": "ipython3",
   "version": "3.9.12"
  }
 },
 "nbformat": 4,
 "nbformat_minor": 5
}
